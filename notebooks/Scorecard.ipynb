{
 "cells": [
  {
   "cell_type": "code",
   "execution_count": 1,
   "id": "0b950f76",
   "metadata": {},
   "outputs": [],
   "source": [
    "import pandas as pd\n",
    "\n",
    "# This should contain: vendor, post_text, timestamp, views\n",
    "df = pd.read_csv(\"C:/Users/techin/Amharic-NER-Data-Collector_week4/data/proccesed/cleaned_telegram_data.csv\")\n",
    "df.rename(columns={'Channel Title': 'vendor', 'Date': 'timestamp', 'Message': 'post_text'}, inplace=True)\n",
    "\n",
    "# Ensure correct types\n",
    "df['timestamp'] = pd.to_datetime(df['timestamp'])\n",
    "df = df.dropna(subset=['normalized_message'])"
   ]
  },
  {
   "cell_type": "code",
   "execution_count": 2,
   "id": "f87c6253",
   "metadata": {},
   "outputs": [
    {
     "name": "stderr",
     "output_type": "stream",
     "text": [
      "c:\\Users\\techin\\Amharic-NER-Data-Collector_week4\\ethio_mart_env\\Lib\\site-packages\\tqdm\\auto.py:21: TqdmWarning: IProgress not found. Please update jupyter and ipywidgets. See https://ipywidgets.readthedocs.io/en/stable/user_install.html\n",
      "  from .autonotebook import tqdm as notebook_tqdm\n"
     ]
    }
   ],
   "source": [
    "from transformers import pipeline\n",
    "model_path =  r\"C:\\Users\\techin\\Amharic-NER-Data-Collector_week4\\notebooks\\ner_model\\final_model\"\n",
    "\n",
    "ner_pipeline = pipeline(\"ner\", model=model_path, tokenizer=model_path, aggregation_strategy=\"simple\")\n",
    "\n",
    "def extract_entities(text):\n",
    "    results = ner_pipeline(text)\n",
    "    products = [r['word'] for r in results if r['entity_group'] == 'Product']\n",
    "    prices = [float(r['word'].replace('ETB', '').replace(',', '').strip())\n",
    "              for r in results if r['entity_group'] == 'Price' and r['word'].replace(',', '').strip().replace('ETB', '').replace('.', '').isdigit()]\n",
    "    return products, prices"
   ]
  },
  {
   "cell_type": "code",
   "execution_count": 4,
   "id": "7fa60c9e",
   "metadata": {},
   "outputs": [
    {
     "data": {
      "text/plain": [
       "Index(['vendor', 'Channel Username', 'ID', 'post_text', 'timestamp',\n",
       "       'Media Path', 'cleaned_message', 'normalized_message', 'tokens'],\n",
       "      dtype='object')"
      ]
     },
     "execution_count": 4,
     "metadata": {},
     "output_type": "execute_result"
    }
   ],
   "source": [
    "df.columns"
   ]
  },
  {
   "cell_type": "code",
   "execution_count": 5,
   "id": "3b0e4f78",
   "metadata": {},
   "outputs": [],
   "source": [
    "df[['products', 'prices']] = df['cleaned_message'].apply(lambda x: pd.Series(extract_entities(x)))\n",
    "df['price'] = df['prices'].apply(lambda x: x[0] if x else None)\n",
    "df['price'] = pd.to_numeric(df['price'], errors='coerce')"
   ]
  },
  {
   "cell_type": "code",
   "execution_count": 14,
   "id": "ffaba3d8",
   "metadata": {},
   "outputs": [
    {
     "name": "stderr",
     "output_type": "stream",
     "text": [
      "C:\\Users\\techin\\AppData\\Local\\Temp\\ipykernel_1344\\23804611.py:1: UserWarning: Converting to PeriodArray/Index representation will drop timezone information.\n",
      "  df['week'] = df['timestamp'].dt.to_period('W')\n"
     ]
    }
   ],
   "source": [
    "df['week'] = df['timestamp'].dt.to_period('W')\n",
    "posts_per_week = df.groupby(['vendor', 'week']).size().groupby('vendor').mean()"
   ]
  },
  {
   "cell_type": "code",
   "execution_count": 15,
   "id": "91cefacc",
   "metadata": {},
   "outputs": [],
   "source": [
    "avg_price = df.groupby('vendor')['price'].mean()"
   ]
  },
  {
   "cell_type": "code",
   "execution_count": 16,
   "id": "94434b07",
   "metadata": {},
   "outputs": [
    {
     "data": {
      "text/plain": [
       "vendor\n",
       "HellooMarket      6082.807540\n",
       "NEVA COMPUTER®    2107.207762\n",
       "Shewa Brand         57.271632\n",
       "Zemen Express®     284.796344\n",
       "ልዩ እቃ              549.076914\n",
       "Name: price, dtype: float64"
      ]
     },
     "execution_count": 16,
     "metadata": {},
     "output_type": "execute_result"
    }
   ],
   "source": [
    "avg_price"
   ]
  },
  {
   "cell_type": "code",
   "execution_count": 18,
   "id": "cba32eb4",
   "metadata": {},
   "outputs": [],
   "source": [
    "import numpy as np\n",
    "np.random.seed(42) # for reproducibility\n",
    "df['views'] = np.random.randint(500, 5000, size=len(df))"
   ]
  },
  {
   "cell_type": "code",
   "execution_count": 19,
   "id": "fde68de2",
   "metadata": {},
   "outputs": [],
   "source": [
    "top_post = df.loc[df.groupby('vendor')['views'].idxmax()]"
   ]
  },
  {
   "cell_type": "code",
   "execution_count": 20,
   "id": "d32bc9c2",
   "metadata": {},
   "outputs": [],
   "source": [
    "from sklearn.preprocessing import MinMaxScaler\n",
    "\n",
    "score_df = pd.DataFrame({\n",
    "    'posts_per_week': posts_per_week,\n",
    "    'avg_price': avg_price\n",
    "}).fillna(0)\n",
    "\n",
    "scaler = MinMaxScaler()\n",
    "score_df[['norm_posts', 'norm_price']] = scaler.fit_transform(score_df[['posts_per_week', 'avg_price']])\n",
    "\n",
    "# Example: give 70% weight to activity, 30% to price level\n",
    "score_df['lending_score'] = (score_df['norm_posts'] * 0.7 + score_df['norm_price'] * 0.3)"
   ]
  },
  {
   "cell_type": "code",
   "execution_count": 21,
   "id": "7c32c455",
   "metadata": {},
   "outputs": [
    {
     "data": {
      "text/plain": [
       "vendor\n",
       "HellooMarket      0.690989\n",
       "NEVA COMPUTER®    0.177887\n",
       "Shewa Brand       0.000000\n",
       "Zemen Express®    0.711328\n",
       "ልዩ እቃ             0.406352\n",
       "Name: lending_score, dtype: float64"
      ]
     },
     "execution_count": 21,
     "metadata": {},
     "output_type": "execute_result"
    }
   ],
   "source": [
    "score_df['lending_score']"
   ]
  },
  {
   "cell_type": "code",
   "execution_count": 22,
   "id": "51f96b3b",
   "metadata": {},
   "outputs": [
    {
     "name": "stdout",
     "output_type": "stream",
     "text": [
      "           Vendor  Posts/Week  Avg. Price (ETB)  Lending Score\n",
      "3  Zemen Express®       18.23            284.80           0.71\n",
      "0    HellooMarket       14.21           6082.81           0.69\n",
      "4           ልዩ እቃ       14.09            549.08           0.41\n",
      "1  NEVA COMPUTER®       10.10           2107.21           0.18\n",
      "2     Shewa Brand        9.11             57.27           0.00\n"
     ]
    }
   ],
   "source": [
    "score_df = score_df[['posts_per_week', 'avg_price', 'lending_score']].round(2)\n",
    "score_df.reset_index(inplace=True)\n",
    "score_df.columns = ['Vendor', 'Posts/Week', 'Avg. Price (ETB)', 'Lending Score']\n",
    "print(score_df.sort_values('Lending Score', ascending=False))"
   ]
  },
  {
   "cell_type": "code",
   "execution_count": 23,
   "id": "67c56ead",
   "metadata": {},
   "outputs": [
    {
     "name": "stderr",
     "output_type": "stream",
     "text": [
      "C:\\Users\\techin\\AppData\\Local\\Temp\\ipykernel_1344\\1664623564.py:1: DeprecationWarning: DataFrameGroupBy.apply operated on the grouping columns. This behavior is deprecated, and in a future version of pandas the grouping columns will be excluded from the operation. Either pass `include_groups=False` to exclude the groupings or explicitly select the grouping columns after groupby to silence this warning.\n",
      "  top_post_df = df.groupby('vendor').apply(lambda x: x.iloc[0])[['post_text', 'products', 'price']]\n"
     ]
    }
   ],
   "source": [
    "top_post_df = df.groupby('vendor').apply(lambda x: x.iloc[0])[['post_text', 'products', 'price']]\n",
    "top_post_df.reset_index(inplace=True)"
   ]
  },
  {
   "cell_type": "code",
   "execution_count": 24,
   "id": "1342892d",
   "metadata": {},
   "outputs": [
    {
     "name": "stderr",
     "output_type": "stream",
     "text": [
      "C:\\Users\\techin\\AppData\\Local\\Temp\\ipykernel_1344\\2279390720.py:6: UserWarning: Glyph 4621 (\\N{ETHIOPIC SYLLABLE LE}) missing from current font.\n",
      "  plt.tight_layout()\n",
      "C:\\Users\\techin\\AppData\\Local\\Temp\\ipykernel_1344\\2279390720.py:6: UserWarning: Glyph 4841 (\\N{ETHIOPIC SYLLABLE YU}) missing from current font.\n",
      "  plt.tight_layout()\n",
      "C:\\Users\\techin\\AppData\\Local\\Temp\\ipykernel_1344\\2279390720.py:6: UserWarning: Glyph 4773 (\\N{ETHIOPIC SYLLABLE GLOTTAL E}) missing from current font.\n",
      "  plt.tight_layout()\n",
      "C:\\Users\\techin\\AppData\\Local\\Temp\\ipykernel_1344\\2279390720.py:6: UserWarning: Glyph 4675 (\\N{ETHIOPIC SYLLABLE QAA}) missing from current font.\n",
      "  plt.tight_layout()\n",
      "c:\\Users\\techin\\Amharic-NER-Data-Collector_week4\\ethio_mart_env\\Lib\\site-packages\\IPython\\core\\pylabtools.py:152: UserWarning: Glyph 4621 (\\N{ETHIOPIC SYLLABLE LE}) missing from current font.\n",
      "  fig.canvas.print_figure(bytes_io, **kw)\n",
      "c:\\Users\\techin\\Amharic-NER-Data-Collector_week4\\ethio_mart_env\\Lib\\site-packages\\IPython\\core\\pylabtools.py:152: UserWarning: Glyph 4841 (\\N{ETHIOPIC SYLLABLE YU}) missing from current font.\n",
      "  fig.canvas.print_figure(bytes_io, **kw)\n",
      "c:\\Users\\techin\\Amharic-NER-Data-Collector_week4\\ethio_mart_env\\Lib\\site-packages\\IPython\\core\\pylabtools.py:152: UserWarning: Glyph 4773 (\\N{ETHIOPIC SYLLABLE GLOTTAL E}) missing from current font.\n",
      "  fig.canvas.print_figure(bytes_io, **kw)\n",
      "c:\\Users\\techin\\Amharic-NER-Data-Collector_week4\\ethio_mart_env\\Lib\\site-packages\\IPython\\core\\pylabtools.py:152: UserWarning: Glyph 4675 (\\N{ETHIOPIC SYLLABLE QAA}) missing from current font.\n",
      "  fig.canvas.print_figure(bytes_io, **kw)\n"
     ]
    },
    {
     "data": {
      "image/png": "[encoded data removed]",
      "text/plain": [
       "<Figure size 800x500 with 1 Axes>"
      ]
     },
     "metadata": {},
     "output_type": "display_data"
    }
   ],
   "source": [
    "import matplotlib.pyplot as plt\n",
    "\n",
    "score_df.sort_values('Lending Score').plot.barh(x='Vendor', y='Lending Score', figsize=(8, 5), color='skyblue')\n",
    "plt.title(\"Vendor Lending Score Comparison\")\n",
    "plt.xlabel(\"Lending Score\")\n",
    "plt.tight_layout()\n",
    "plt.show()"
   ]
  },
  {
   "cell_type": "code",
   "execution_count": null,
   "id": "99eb3e32",
   "metadata": {},
   "outputs": [],
   "source": []
  }
 ],
 "metadata": {
  "kernelspec": {
   "display_name": "ethio_mart_env",
   "language": "python",
   "name": "python3"
  },
  "language_info": {
   "codemirror_mode": {
    "name": "ipython",
    "version": 3
   },
   "file_extension": ".py",
   "mimetype": "text/x-python",
   "name": "python",
   "nbconvert_exporter": "python",
   "pygments_lexer": "ipython3",
   "version": "3.12.4"
  }
 },
 "nbformat": 4,
 "nbformat_minor": 5
}
