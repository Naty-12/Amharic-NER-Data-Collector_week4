{
 "cells": [
  {
   "cell_type": "code",
   "execution_count": 1,
   "id": "05d84e73",
   "metadata": {},
   "outputs": [
    {
     "name": "stdout",
     "output_type": "stream",
     "text": [
      "    Channel Title Channel Username    ID  \\\n",
      "0  Zemen Express®    @ZemenExpress  6982   \n",
      "1  Zemen Express®    @ZemenExpress  6981   \n",
      "2  Zemen Express®    @ZemenExpress  6980   \n",
      "3  Zemen Express®    @ZemenExpress  6979   \n",
      "4  Zemen Express®    @ZemenExpress  6978   \n",
      "\n",
      "                                             Message  \\\n",
      "0  💥💥...................................💥💥\\n\\n📌Im...   \n",
      "1  💥💥...................................💥💥\\n\\n📌 B...   \n",
      "2                                                NaN   \n",
      "3                                                NaN   \n",
      "4                                                NaN   \n",
      "\n",
      "                        Date                     Media Path  \\\n",
      "0  2025-06-18 06:01:10+00:00                            NaN   \n",
      "1  2025-06-16 12:21:00+00:00                            NaN   \n",
      "2  2025-06-16 05:11:57+00:00  photos\\@ZemenExpress_6980.jpg   \n",
      "3  2025-06-16 05:11:57+00:00  photos\\@ZemenExpress_6979.jpg   \n",
      "4  2025-06-16 05:11:57+00:00  photos\\@ZemenExpress_6978.jpg   \n",
      "\n",
      "                                     cleaned_message  \\\n",
      "0  Imitation Volcano Humidifier with LED Light በኤ...   \n",
      "1  Baby Carrier በፈለጉት አቅጣጫ ልጅዎን በምቾት ማዘል ያስችልዎታል ...   \n",
      "2                                                NaN   \n",
      "3                                                NaN   \n",
      "4                                                NaN   \n",
      "\n",
      "                                  normalized_message  \\\n",
      "0  Imitation Volcano Humidifier with LED Light በኤ...   \n",
      "1  Baby Carrier በፈለጉት አቅጣጫ ልጅዎን በምቾት ማዘል ያስችልዎታል ...   \n",
      "2                                                NaN   \n",
      "3                                                NaN   \n",
      "4                                                NaN   \n",
      "\n",
      "                                              tokens  \n",
      "0  ['Imitation', 'Volcano', 'Humidifier', 'with',...  \n",
      "1  ['Baby', 'Carrier', 'በፈለጉት', 'አቅጣጫ', 'ልጅዎን', '...  \n",
      "2                                                 []  \n",
      "3                                                 []  \n",
      "4                                                 []  \n"
     ]
    }
   ],
   "source": [
    "import pandas as pd\n",
    "import re\n",
    "\n",
    "# Load your cleaned CSV file\n",
    "df = pd.read_csv(\"C:/Users/techin/Amharic-NER-Data-Collector_week4/data/Proccesed/cleaned_telegram_data.csv\")\n",
    "\n",
    "# Preview first few rows\n",
    "print(df.head())\n"
   ]
  },
  {
   "cell_type": "code",
   "execution_count": 3,
   "id": "e5833cc4",
   "metadata": {},
   "outputs": [],
   "source": [
    "df = df.dropna(subset=['cleaned_message'])"
   ]
  },
  {
   "cell_type": "code",
   "execution_count": 4,
   "id": "cb53df7f",
   "metadata": {},
   "outputs": [],
   "source": [
    "subset_df = df[['ID', 'tokens']].head(50) "
   ]
  },
  {
   "cell_type": "code",
   "execution_count": 5,
   "id": "89dae4dd",
   "metadata": {},
   "outputs": [],
   "source": [
    "import ast\n",
    "subset_df['tokens'] = subset_df['tokens'].apply(ast.literal_eval)"
   ]
  },
  {
   "cell_type": "code",
   "execution_count": 6,
   "id": "ec82e781",
   "metadata": {},
   "outputs": [],
   "source": [
    "subset_df['ner_tags'] = subset_df['tokens'].apply(lambda tokens: ['O'] * len(tokens))"
   ]
  },
  {
   "cell_type": "code",
   "execution_count": 8,
   "id": "a9d1d191",
   "metadata": {},
   "outputs": [],
   "source": [
    "exploded = subset_df.explode(['tokens', 'ner_tags']).reset_index(drop=True)\n",
    "exploded.rename(columns={'tokens': 'token', 'ner_tags': 'ner_tag'}, inplace=True)\n",
    "exploded.to_csv(\"labeling_template.csv\", index=False)"
   ]
  }
 ],
 "metadata": {
  "kernelspec": {
   "display_name": "ethio_mart_env",
   "language": "python",
   "name": "python3"
  },
  "language_info": {
   "codemirror_mode": {
    "name": "ipython",
    "version": 3
   },
   "file_extension": ".py",
   "mimetype": "text/x-python",
   "name": "python",
   "nbconvert_exporter": "python",
   "pygments_lexer": "ipython3",
   "version": "3.12.4"
  }
 },
 "nbformat": 4,
 "nbformat_minor": 5
}
